{
  "nbformat": 4,
  "nbformat_minor": 0,
  "metadata": {
    "colab": {
      "provenance": [],
      "authorship_tag": "ABX9TyOYzwrrmJX7qeYjoKZ368I7",
      "include_colab_link": true
    },
    "kernelspec": {
      "name": "python3",
      "display_name": "Python 3"
    },
    "language_info": {
      "name": "python"
    }
  },
  "cells": [
    {
      "cell_type": "markdown",
      "metadata": {
        "id": "view-in-github",
        "colab_type": "text"
      },
      "source": [
        "<a href=\"https://colab.research.google.com/github/SamariaSpringfield/MAT421_/blob/main/ModuleG.ipynb\" target=\"_parent\"><img src=\"https://colab.research.google.com/assets/colab-badge.svg\" alt=\"Open In Colab\"/></a>"
      ]
    },
    {
      "cell_type": "markdown",
      "source": [
        "**Numerical Integration**\n",
        "\n",
        "*Module G 21.1-3*\n",
        "\n",
        "In this chapter we will introduce methods of numerically integrating functions. \n",
        "Integration is an intstrumental key of understanding in science and \n",
        "engineering alike. \n",
        "\n",
        "Given a function 𝑓(𝑥)\n",
        ", we want to approximate the integral of 𝑓(𝑥)\n",
        " over the total interval, [𝑎,𝑏]\n",
        ". Method approximates the area under 𝑓(𝑥)\n",
        " for each subinterval"
      ],
      "metadata": {
        "id": "iLWWM9r1wMOe"
      }
    },
    {
      "cell_type": "markdown",
      "source": [
        "**Reimanns Integral**\n",
        "\n",
        "The Reimanns Integral approximates the area under the curve by using rectangles that define each subinterval. The width is denoted as 𝑥𝑖+1−𝑥𝑖=ℎ\n",
        " and the height by  a function value 𝑓(𝑥)\n",
        " for some 𝑥\n",
        " in the subinterval. Reimanns integral is the method in which the height is found through two endpoints; as the accuracy becomes more necessary the midpoint rule is implemented. \n",
        " \n",
        " The **Midpoint Rule** takes the rectangle height of the rectangle at each subinterval to be the function value at the midpoint between 𝑥𝑖\n",
        " and 𝑥𝑖+1\n",
        ", which for compactness we denote by 𝑦𝑖=𝑥𝑖+1+𝑥𝑖2\n",
        ". \n",
        "\n",
        "Below we will use the left and right Reimann Integral as well as the midpoint rule to approximate     ∫𝜋0cos(𝑥)𝑑𝑥."
      ],
      "metadata": {
        "id": "qGHeWwyXw9XM"
      }
    },
    {
      "cell_type": "code",
      "source": [
        "import numpy as np\n",
        "\n",
        "a = 0\n",
        "b = np.pi\n",
        "n = 11\n",
        "h = (b - a) / (n - 1)\n",
        "x = np.linspace(a, b, n)\n",
        "f = np.cos(x)\n",
        "\n",
        "I_riemannL = h * sum(f[:n-1])\n",
        "err_riemannL = 2 - I_riemannL\n",
        "\n",
        "I_riemannR = h * sum(f[1::])\n",
        "err_riemannR = 2 - I_riemannR\n",
        "\n",
        "I_mid = h * sum(np.sin((x[:n-1] \\\n",
        "        + x[1:])/2))\n",
        "err_mid = 2 - I_mid\n",
        "\n",
        "print(I_riemannL)\n",
        "print(err_riemannL)\n",
        "\n",
        "print(I_riemannR)\n",
        "print(err_riemannR)\n",
        "\n",
        "print(I_mid)\n",
        "print(err_mid)"
      ],
      "metadata": {
        "colab": {
          "base_uri": "https://localhost:8080/"
        },
        "id": "w0CjSZZDyZA6",
        "outputId": "12f15eef-3cd0-49ac-b7b1-88ae98d304ef"
      },
      "execution_count": 2,
      "outputs": [
        {
          "output_type": "stream",
          "name": "stdout",
          "text": [
            "0.3141592653589795\n",
            "1.6858407346410205\n",
            "-0.3141592653589791\n",
            "2.3141592653589793\n",
            "2.0082484079079745\n",
            "-0.008248407907974542\n"
          ]
        }
      ]
    },
    {
      "cell_type": "markdown",
      "source": [
        "**Trapezoid Rule**\n",
        "\n",
        "The Trapezoid Rule fits a trapezoid into each subinterval and sums the areas of the trapezoid to approximate the total integral. \n",
        "\n",
        "Trapezoid rule approximation integral over subinterval = h(f(x_iplus1) + f(x_i))\n",
        "\n",
        "O(h^3) for single subinterval, O(h^2) for whole integral"
      ],
      "metadata": {
        "id": "4N7oh8hKzDTh"
      }
    },
    {
      "cell_type": "code",
      "source": [
        "import numpy as np\n",
        "\n",
        "a = 0 \n",
        "b = np.pi\n",
        "n = 11\n",
        "h = (b - a)/(n - 1)\n",
        "x = np.linspace(a,b,n)\n",
        "f = np.cos(x)\n",
        "\n",
        "I_trap = (h/2)*(f[0] + 2*sum(f[1:n-1]) + f[n-1])\n",
        "err_trap = 0 - I_trap\n",
        "\n",
        "print(I_trap)\n",
        "print(err_trap)\n"
      ],
      "metadata": {
        "colab": {
          "base_uri": "https://localhost:8080/"
        },
        "id": "80urg67bzMBp",
        "outputId": "2c2ec366-8b92-448f-b046-150d42638894"
      },
      "execution_count": 3,
      "outputs": [
        {
          "output_type": "stream",
          "name": "stdout",
          "text": [
            "2.092721098805179e-16\n",
            "-2.092721098805179e-16\n"
          ]
        }
      ]
    },
    {
      "cell_type": "markdown",
      "source": [
        "**Simpson's Rule**\n",
        "\n",
        " Approximates the area under f(x) over subintervals [x_iminus1, x_i] and [x_i,x_iplus1] by fitting a quadratic polynomial throught he points (x_iminus1, f(x_iminus1)),(x_i, f(x_i)) and (x_iplus1, f(x_iplus1)) which is a unique polynomial, then integrating that quadratic exactly.\n",
        "\n"
      ],
      "metadata": {
        "id": "14CjkQJFzhkQ"
      }
    },
    {
      "cell_type": "code",
      "source": [
        "import numpy as np\n",
        "\n",
        "a = 0 \n",
        "b = np.pi\n",
        "n = 11\n",
        "h = (b - a)/(n - 1)\n",
        "x = np.linspace( a, b, n)\n",
        "f = np.sin(x)\n",
        "I_simp = (h/3) * (f[0] + 2*sum(f[:n-2:]) + 4*sum(f[1:n-1:2]) + f[n-1])\n",
        "err_simp = 2 - I_simp\n",
        "\n",
        "print(I_simp)\n",
        "print(err_simp)"
      ],
      "metadata": {
        "id": "EXn9DATMzb4-"
      },
      "execution_count": null,
      "outputs": []
    }
  ]
}