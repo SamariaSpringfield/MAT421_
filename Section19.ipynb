{
  "nbformat": 4,
  "nbformat_minor": 0,
  "metadata": {
    "colab": {
      "provenance": [],
      "authorship_tag": "ABX9TyO2W6OkOmcoftaUK0+/hkMz",
      "include_colab_link": true
    },
    "kernelspec": {
      "name": "python3",
      "display_name": "Python 3"
    },
    "language_info": {
      "name": "python"
    }
  },
  "cells": [
    {
      "cell_type": "markdown",
      "metadata": {
        "id": "view-in-github",
        "colab_type": "text"
      },
      "source": [
        "<a href=\"https://colab.research.google.com/github/SamariaSpringfield/MAT421_/blob/main/Section19.ipynb\" target=\"_parent\"><img src=\"https://colab.research.google.com/assets/colab-badge.svg\" alt=\"Open In Colab\"/></a>"
      ]
    },
    {
      "cell_type": "markdown",
      "source": [
        "**Root Finding**\n",
        "\n",
        "*Section 19.1-5*\n",
        "\n",
        "Finding the roots of a function is a necessary computation in many engineering applications. As functions evolve in complexity, simple, definite methods such as the quadratic formula are no longer applicable and we instead rely on algorithms for such problems. We will begin by generating numerical approximations of the roots of 𝑓.\n"
      ],
      "metadata": {
        "id": "be9XOVHW1SxP"
      }
    },
    {
      "cell_type": "markdown",
      "source": [
        "**19.1 Root Finding Problem Statement**\n",
        "\n",
        "**Example** Using *fsolve* function from scipy to compute the root of 𝑓(𝑥) = cos(𝑥) − 𝑥 near −5. Verify that the solution is a root."
      ],
      "metadata": {
        "id": "DAy949xQp_i7"
      }
    },
    {
      "cell_type": "code",
      "source": [
        "import numpy as np\n",
        "from scipy import optimize\n",
        "\n",
        "f = lambda x: np.cos(x) - x\n",
        "r = optimize.fsolve(f, -5)\n",
        "print(\"r =\", r)\n",
        "\n",
        "# Verify the solution is a root\n",
        "result = f(r)\n",
        "print(\"result=\", result)"
      ],
      "metadata": {
        "id": "fxi9aOIOppu3",
        "outputId": "c782b205-98e0-4ab2-e8e6-f87f3b6eccec",
        "colab": {
          "base_uri": "https://localhost:8080/"
        }
      },
      "execution_count": null,
      "outputs": [
        {
          "output_type": "stream",
          "name": "stdout",
          "text": [
            "r = [0.73908513]\n",
            "result= [0.]\n"
          ]
        }
      ]
    },
    {
      "cell_type": "markdown",
      "source": [
        "**19.2 Tolerance**\n",
        "\n",
        "In relation to solving roots we can introduce enginnering terms: *error*, *tolerance* and *converge*. *Error* is defined as the deviation from an expected value. *Tolerance* is the level of error that is accpetable for an enginerring application (it is critical to establish a metric for error and tolerence for root computation). When a computer program finds a solution less than the tolerance the program has *converged*. "
      ],
      "metadata": {
        "id": "mSNi7M54rDqx"
      }
    },
    {
      "cell_type": "markdown",
      "source": [
        "**19.3 Bisection Method**\n",
        "\n",
        "We will now introduce the I**ntermediate Value Theorem** and the **bisection method**.\n",
        "\n",
        "\n",
        "The **Intermediate Value Theorem** says that if 𝑓(𝑥) is a continuous function between 𝑎 and 𝑏, and **sign(𝑓(𝑎)) ≠ sign(𝑓(𝑏))**, then there must be a 𝑐, such that 𝑎 < 𝑐 < 𝑏 and 𝑓(𝑐)=0\n",
        "\n",
        "The **bisection method** uses the intermediate value theorem iteratively to find roots. "
      ],
      "metadata": {
        "id": "Zyqty2PqtIBm"
      }
    },
    {
      "cell_type": "markdown",
      "source": [
        "**Example** Program a function that approximates a root r of f, bounded by a and b to within |f(a+b/2)| < tol. "
      ],
      "metadata": {
        "id": "wNIPkLGIwASp"
      }
    },
    {
      "cell_type": "code",
      "source": [
        "import numpy as np\n",
        "\n",
        "def my_bisection(f, a, b, tol): \n",
        "    \n",
        "    if np.sign(f(a)) == np.sign(f(b)):\n",
        "        raise Exception(\n",
        "         \"The scalars a and b do not bound a root\")\n",
        "        \n",
        "    # get midpoint\n",
        "    m = (a + b)/2\n",
        "    \n",
        "    if np.abs(f(m)) < tol:\n",
        "        # stopping condition, report m as root\n",
        "        return m\n",
        "    elif np.sign(f(a)) == np.sign(f(m)):\n",
        "        \n",
        "        return my_bisection(f, m, b, tol)\n",
        "    elif np.sign(f(b)) == np.sign(f(m)):\n",
        "        \n",
        "        return my_bisection(f, a, m, tol)"
      ],
      "metadata": {
        "id": "fub6E-i4tI2M"
      },
      "execution_count": null,
      "outputs": []
    },
    {
      "cell_type": "markdown",
      "source": [
        "**Example Cont.** Now consider the root of x^2 - 5. Starting at a = 0 and b = 5, use the created function to approximate the sqrt(4) to a tolerance of |f(x)| < 0.1 and |f(x)| < 0.01. Verify the results are close to a root by plugging the root back into the equation."
      ],
      "metadata": {
        "id": "vf0W4j_fxCP9"
      }
    },
    {
      "cell_type": "code",
      "source": [
        "f = lambda x: x**2 - 5\n",
        "\n",
        "r1 = my_bisection(f, 0, 5, 0.1)\n",
        "print(\"r1 =\", r1)\n",
        "r01 = my_bisection(f, 0, 5, 0.01)\n",
        "print(\"r01 =\", r01)\n",
        "\n",
        "print(\"f(r1) =\", f(r1))\n",
        "print(\"f(r01) =\", f(r01))"
      ],
      "metadata": {
        "id": "pySgReVqtRwx",
        "outputId": "154ce22f-7585-4f43-c99c-2b0d72408d4b",
        "colab": {
          "base_uri": "https://localhost:8080/"
        }
      },
      "execution_count": null,
      "outputs": [
        {
          "output_type": "stream",
          "name": "stdout",
          "text": [
            "r1 = 2.2265625\n",
            "r01 = 2.236328125\n",
            "f(r1) = -0.04241943359375\n",
            "f(r01) = 0.001163482666015625\n"
          ]
        }
      ]
    },
    {
      "cell_type": "markdown",
      "source": [
        "**19.4 Newton-Raphson Method**\n",
        "\n",
        "The Newton-Raphson Method uses linear approximation to improve an initial guess of a root to the value of the actual root. In more definite terms, the Newton-Raphson Method of finding roots iterates Newton steps from 𝑥0 until the error is less than the tolerance.\n",
        "\n"
      ],
      "metadata": {
        "id": "9ncRp5IUxjBG"
      }
    },
    {
      "cell_type": "markdown",
      "source": [
        "**Example** Write a function where the output is the output is an estimation of the root f, f is a function object f(x), df is a function object to f'(x), x0 is an initial guess, and tol is the error tolerance. The error measurement should be |f(x)|. Then use it to compute sqrt(8) to within tolerance of 1e-6 at x0 = 3"
      ],
      "metadata": {
        "id": "fdIt1BFFy8ea"
      }
    },
    {
      "cell_type": "code",
      "source": [
        "f_prime = lambda x: 2*x\n",
        "def my_newton(f, df, x0, tol):\n",
        "    # output is an estimation of the root of f \n",
        "    # using the Newton Raphson method\n",
        "    # recursive implementation\n",
        "    if abs(f(x0)) < tol:\n",
        "        return x0\n",
        "    else:\n",
        "        return my_newton(f, df, x0 - f(x0)/df(x0), tol)"
      ],
      "metadata": {
        "id": "0anC5rCwzDED"
      },
      "execution_count": null,
      "outputs": []
    },
    {
      "cell_type": "code",
      "source": [
        "estimate = my_newton(f, f_prime, 3, 1e-6)\n",
        "print(\"estimate =\", estimate)\n",
        "print(\"sqrt(8) =\", np.sqrt(8))"
      ],
      "metadata": {
        "id": "5oB8GxFJzPVc",
        "outputId": "d126435e-9d4a-4687-b459-c29e72705f3e",
        "colab": {
          "base_uri": "https://localhost:8080/"
        }
      },
      "execution_count": null,
      "outputs": [
        {
          "output_type": "stream",
          "name": "stdout",
          "text": [
            "estimate = 2.236067977499978\n",
            "sqrt(2) = 2.8284271247461903\n"
          ]
        }
      ]
    },
    {
      "cell_type": "markdown",
      "source": [
        "**19.5 Root Finding in Python**\n",
        "\n",
        "To find the root in pylthon we use f_solve from the scipy.optimize."
      ],
      "metadata": {
        "id": "kDDQUfX_0Iq-"
      }
    },
    {
      "cell_type": "markdown",
      "source": [
        "**Example** Compute the root of x^2 - 11x + 30 using fsolve."
      ],
      "metadata": {
        "id": "6wox2-5g0e3B"
      }
    },
    {
      "cell_type": "code",
      "source": [
        "from scipy.optimize import fsolve\n",
        "f = lambda x : x**3-64*x+8\n",
        "fsolve(f, [4,7])"
      ],
      "metadata": {
        "id": "I2FcO7iy0C1R",
        "outputId": "4dcae922-9607-4b66-f6f0-cb9e73aa61c9",
        "colab": {
          "base_uri": "https://localhost:8080/"
        }
      },
      "execution_count": null,
      "outputs": [
        {
          "output_type": "execute_result",
          "data": {
            "text/plain": [
              "array([-8.06178246,  7.93675192])"
            ]
          },
          "metadata": {},
          "execution_count": 18
        }
      ]
    }
  ]
}