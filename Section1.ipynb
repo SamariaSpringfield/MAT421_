{
  "nbformat": 4,
  "nbformat_minor": 0,
  "metadata": {
    "colab": {
      "provenance": [],
      "authorship_tag": "ABX9TyMpSegpsBPHrNXT6nB2bZ4H",
      "include_colab_link": true
    },
    "kernelspec": {
      "name": "python3",
      "display_name": "Python 3"
    },
    "language_info": {
      "name": "python"
    }
  },
  "cells": [
    {
      "cell_type": "markdown",
      "metadata": {
        "id": "view-in-github",
        "colab_type": "text"
      },
      "source": [
        "<a href=\"https://colab.research.google.com/github/SamariaSpringfield/MAT421_/blob/main/Section1.ipynb\" target=\"_parent\"><img src=\"https://colab.research.google.com/assets/colab-badge.svg\" alt=\"Open In Colab\"/></a>"
      ]
    },
    {
      "cell_type": "markdown",
      "source": [
        "**Linear Algebra and Systems of Linear Equations**\n",
        "\n",
        "*Section 1.1-4*"
      ],
      "metadata": {
        "id": "PE1iznMVixh0"
      }
    },
    {
      "cell_type": "markdown",
      "source": [
        "In this section we will focus on linear relationships, a fundamental relationship in engineering and science alike.\n"
      ],
      "metadata": {
        "id": "pEPogvQ2AJ3S"
      }
    },
    {
      "cell_type": "markdown",
      "source": [
        "**1.1 Basics of Linear Algebra**\n",
        "\n",
        "Sets - Collection of objects {}\n",
        "\n",
        "Union - A U B - Set containing all elements of A and B\n",
        "\n",
        "Intersect - A n B - Set Containing all elements thats belong to both A and B\n",
        "\n",
        "Naturals - N = {1,2,3,4,..}\n",
        "\n",
        "Wholes - W = N U {0}\n",
        "\n",
        "Integers - Z = W U {-1,-2,-3,....}\n",
        "\n",
        "Rationals - Q = { p/g : p ∊ Z , q ∊ Z \\ {0}}\n",
        "\n",
        "Irrationals - I = set of real numbers not expressible as a fraction of integers\n",
        "\n",
        "Reals - R = Q U I\n",
        "\n",
        "Complex Numbers - C = {a + bi: a, b ∊ R, i = sqrt(-1) }\n"
      ],
      "metadata": {
        "id": "4vwrSOBCBq1q"
      }
    },
    {
      "cell_type": "markdown",
      "source": [
        "**Vectors**\n",
        "\n",
        "**Example 1** Create a row vector and column vector, and show the shape of the vectors."
      ],
      "metadata": {
        "id": "FiMYfC-MCgTU"
      }
    },
    {
      "cell_type": "code",
      "source": [
        "import numpy as np\n",
        "vector_row = np.array([[7, -3, 3, 1, 4]])\n",
        "vector_column = np.array([[1], \n",
        "                          [2], \n",
        "                          [3], \n",
        "                          [4]])\n",
        "print(vector_row.shape)\n",
        "print(vector_column.shape)"
      ],
      "metadata": {
        "id": "mPoG2JPsBqV5",
        "colab": {
          "base_uri": "https://localhost:8080/"
        },
        "outputId": "358230de-6558-4e55-be13-f9aa0598bf51"
      },
      "execution_count": 2,
      "outputs": [
        {
          "output_type": "stream",
          "name": "stdout",
          "text": [
            "(1, 5)\n",
            "(4, 1)\n"
          ]
        }
      ]
    },
    {
      "cell_type": "markdown",
      "source": [
        "**Matrices**\n",
        "\n",
        "**Example 2**  Use Python to find the determinant of the matrix 𝑀=[[0,5,1,4], [3,3,8,8], [1,2,0,3], [0,4,2,3]]. Use the np.eye function to produce a 4×4 identity matrix, 𝐼. Multiply 𝑀 by 𝐼 to show that the result is 𝑀."
      ],
      "metadata": {
        "id": "nzatQ0wcDbka"
      }
    },
    {
      "cell_type": "code",
      "source": [
        "from numpy.linalg import det\n",
        "\n",
        "M = np.array([[0,5,1,4], \n",
        "             [3,3,8,8], \n",
        "             [1,2,0,3],\n",
        "             [0,4,2,3]])\n",
        "print('M:\\n', M)\n",
        "\n",
        "print('Determinant: %.1f'%det(M))\n",
        "I = np.eye(4)\n",
        "print('I:\\n', I)\n",
        "print('M*I:\\n', np.dot(M, I))\n"
      ],
      "metadata": {
        "colab": {
          "base_uri": "https://localhost:8080/"
        },
        "id": "s-CKhcDiDbL8",
        "outputId": "3991b97d-bfcb-4eec-a271-f470dfdc985f"
      },
      "execution_count": 3,
      "outputs": [
        {
          "output_type": "stream",
          "name": "stdout",
          "text": [
            "M:\n",
            " [[0 5 1 4]\n",
            " [3 3 8 8]\n",
            " [1 2 0 3]\n",
            " [0 4 2 3]]\n",
            "Determinant: -17.0\n",
            "I:\n",
            " [[1. 0. 0. 0.]\n",
            " [0. 1. 0. 0.]\n",
            " [0. 0. 1. 0.]\n",
            " [0. 0. 0. 1.]]\n",
            "M*I:\n",
            " [[0. 5. 1. 4.]\n",
            " [3. 3. 8. 8.]\n",
            " [1. 2. 0. 3.]\n",
            " [0. 4. 2. 3.]]\n"
          ]
        }
      ]
    },
    {
      "cell_type": "markdown",
      "source": [
        "**1.2 Elements of Linear Algebra**\n",
        "\n",
        "For vectors 𝑥 and 𝑦, and scalars 𝑎 and 𝑏, we can say that a function, 𝐹, is a linear transformation if 𝐹(𝑎𝑥+𝑏𝑦)=𝑎𝐹(𝑥)+𝑏𝐹(𝑦).\n",
        "\n",
        "\n",
        "It can be shown that multiplying an 𝑚×𝑛 matrix, 𝐴, and an 𝑛×1 vector, 𝑣, of compatible size is a linear transformation of 𝑣"
      ],
      "metadata": {
        "id": "EE58ucFWEgT0"
      }
    },
    {
      "cell_type": "code",
      "source": [
        "import numpy as np\n",
        "x = np.array([[4, 5, 1]])\n",
        "z = np.array([[5, 3, 2]])\n",
        "print(np.cross(x, z))"
      ],
      "metadata": {
        "colab": {
          "base_uri": "https://localhost:8080/"
        },
        "id": "XhYshndKDlL_",
        "outputId": "10df32d9-f064-4b9f-af94-8947dbeaf46b"
      },
      "execution_count": 13,
      "outputs": [
        {
          "output_type": "stream",
          "name": "stdout",
          "text": [
            "[[  7  -3 -13]]\n"
          ]
        }
      ]
    },
    {
      "cell_type": "markdown",
      "source": [
        "**Elements Deep Dive**\n",
        "\n",
        "*Column Space* \n",
        "\n",
        "Let A ∊ R^(nxm) be an nxm matrix with columns a1,...,am ∊ R^n. The column space of A, denoted col(A) is the span of the columns of A.\n",
        "\n",
        "*Linear Independence*\n",
        "\n",
        " A list of column vectors u1,...,um is linearly independent if none of them can be written as a linear combinations of the others.\n",
        "\n",
        "*Dimension Theorem* \n",
        "\n",
        "Let U be a linear subspace of V. Any basis of U has the same number of elements. All bases of U have the same length and same number of elements is dim(U).\n",
        "\n",
        "A list of vectors {u1,...,um} is orthonormal if the u's are pairwise orthogonal and each has a norm 1 .\n",
        "\n",
        "*Orthogonal Projection* \n",
        "\n",
        "Let U ⊆ V be a linear subspace with orthonormal basis q1,...,qm. The orthogonal porjection of v ∊ V on U is Pu v = sum(j=1)< v , qj > qj.\n",
        "\n",
        "*Best Approximation Theorem*\n",
        "\n",
        "Let U ⊆ V be a linear subspace with orthonormal basis q1,...,qm let v ∊ V. For any u ∊ U. ||v-Pu v|| <= ||v-u||.\n",
        "\n",
        "*Pythagorean Theorem* \n",
        "\n",
        " Let u1 v ∊ V be orthogonal. Then ||u + v||^2 = ||u||^2 + ||v||^2\n",
        "\n",
        "*Cauchy-Schwarz* \n",
        "\n",
        "For any u1 v ∊ V , |<u,v>| <= ||u|| ||v||\n",
        "\n",
        "*Gram-Schmidt* \n",
        "\n",
        "Let a1,...,am in R^n be linearly independent. Then there exists an orthonormal basis, q1,...,qm of span(a1,...,am).\n",
        "\n",
        "*Eigenvalues and Eigenvectors* \n",
        "\n",
        "Let A ∊ R^(dxd) be a square matrix. Then 𝜆 ∊ R is an eigenvalue of A if there exists a non-zero vector x != 0 such that Ax = 𝜆x. Vector x is an eigenvector."
      ],
      "metadata": {
        "id": "2jYRYMz5Iud_"
      }
    },
    {
      "cell_type": "markdown",
      "source": [
        "**1.3 Linear Regression**\n"
      ],
      "metadata": {
        "id": "SOMlBP1LGTRg"
      }
    },
    {
      "cell_type": "code",
      "source": [
        "import numpy as np\n",
        "from numpy.linalg import qr\n",
        "x = np.array([[0, 3], [3, 4]])\n",
        "\n",
        "Q,R = qr(x)\n",
        "print('Q:', Q)\n",
        "print('R:', R)\n",
        "\n",
        "z = np.dot(Q, R)\n",
        "print('QR:', z)\n",
        "\n",
        "iterations = [1, 20]\n",
        "for i in range(20):\n",
        "    Q,R = qr(x)\n",
        "    x = np.dot(R, Q)\n",
        "    if i+1 in iterations:\n",
        "        print(f'Iteration {i+1}:')\n",
        "        print(x)"
      ],
      "metadata": {
        "colab": {
          "base_uri": "https://localhost:8080/"
        },
        "id": "EE3ia8oFGSaf",
        "outputId": "2c700679-d9f9-4904-efdc-30c8faa1c1c2"
      },
      "execution_count": 5,
      "outputs": [
        {
          "output_type": "stream",
          "name": "stdout",
          "text": [
            "Q: [[ 0. -1.]\n",
            " [-1.  0.]]\n",
            "R: [[-3. -4.]\n",
            " [ 0. -3.]]\n",
            "QR: [[0. 3.]\n",
            " [3. 4.]]\n",
            "Iteration 1:\n",
            "[[4. 3.]\n",
            " [3. 0.]]\n",
            "Iteration 20:\n",
            "[[ 5.60555128e+00  1.86043711e-10]\n",
            " [ 1.86044037e-10 -1.60555128e+00]]\n"
          ]
        }
      ]
    },
    {
      "cell_type": "markdown",
      "source": [
        "*Normal Equations*\n",
        "\n",
        "Let A ∊ R^(nxm) be an nxm matrix with linearly independent columns and let b ∊ R^n be a vector. The solution to the least-squares problem min||Ax-b|| satisfies A^T Ax = A^T b which are known as the normal equations.\n",
        "\n",
        "*Least Squares via QR*\n",
        "\n",
        "Let A ∊ R^(nxm) be an nxm matrix with linearly independent column, let b ∊ R^n be a vector and let A = QR be a QR decomposition of A where Q is a R^(nxm) matrix with Q^T Q = I(mxm) and T is an upper triangle. \\\n",
        "\n"
      ],
      "metadata": {
        "id": "6b7INbpPHKPr"
      }
    },
    {
      "cell_type": "code",
      "source": [
        "import numpy as np\n",
        "from scipy import optimize\n",
        "import matplotlib.pyplot as plt\n",
        "\n",
        "plt.style.use('seaborn-poster')\n",
        "# generate x and y\n",
        "x = np.linspace(0, 1, 101)\n",
        "y = 1 + x + x * np.random.random(len(x))\n",
        "# assemble matrix A\n",
        "A = np.vstack([x, np.ones(len(x))]).T\n",
        "\n",
        "# turn y into a column vector\n",
        "y = y[:, np.newaxis]\n",
        "# Direct least square regression\n",
        "beta = np.dot((np.dot(np.linalg.inv(np.dot(A.T,A)),A.T)),y)\n",
        "print(beta)\n"
      ],
      "metadata": {
        "colab": {
          "base_uri": "https://localhost:8080/"
        },
        "id": "JKzhEHp0Gkrg",
        "outputId": "6fd2800e-92ae-42ec-8db1-83953faf83c2"
      },
      "execution_count": 10,
      "outputs": [
        {
          "output_type": "stream",
          "name": "stdout",
          "text": [
            "[[1.47271696]\n",
            " [1.00979989]]\n"
          ]
        }
      ]
    },
    {
      "cell_type": "code",
      "source": [
        "# plot the results\n",
        "plt.figure(figsize = (10,8))\n",
        "plt.plot(x, y, 'b.')\n",
        "plt.plot(x, beta[0]*x + beta[1], 'r')\n",
        "plt.xlabel('x')\n",
        "plt.ylabel('y')\n",
        "plt.show()\n"
      ],
      "metadata": {
        "colab": {
          "base_uri": "https://localhost:8080/",
          "height": 517
        },
        "id": "FKP2GC7eIGTL",
        "outputId": "924c1c11-e6ab-4ffe-8d4f-f6e04fb87ece"
      },
      "execution_count": 11,
      "outputs": [
        {
          "output_type": "display_data",
          "data": {
            "text/plain": [
              "<Figure size 720x576 with 1 Axes>"
            ],
            "image/png": "[encoded data removed]"
          },
          "metadata": {
            "needs_background": "light"
          }
        }
      ]
    }
  ]
}