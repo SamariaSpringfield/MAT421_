{
  "nbformat": 4,
  "nbformat_minor": 0,
  "metadata": {
    "colab": {
      "provenance": [],
      "authorship_tag": "ABX9TyMGMnKKW/zTZfTgcz20WydE",
      "include_colab_link": true
    },
    "kernelspec": {
      "name": "python3",
      "display_name": "Python 3"
    },
    "language_info": {
      "name": "python"
    }
  },
  "cells": [
    {
      "cell_type": "markdown",
      "metadata": {
        "id": "view-in-github",
        "colab_type": "text"
      },
      "source": [
        "<a href=\"https://colab.research.google.com/github/SamariaSpringfield/MAT421_/blob/main/Section1.ipynb\" target=\"_parent\"><img src=\"https://colab.research.google.com/assets/colab-badge.svg\" alt=\"Open In Colab\"/></a>"
      ]
    },
    {
      "cell_type": "code",
      "execution_count": null,
      "metadata": {
        "id": "JQtVna0kiuFw"
      },
      "outputs": [],
      "source": []
    },
    {
      "cell_type": "markdown",
      "source": [
        "**Linear Algebra and Systems of Linear Equations**\n",
        "\n",
        "*Section 1.1-4*"
      ],
      "metadata": {
        "id": "PE1iznMVixh0"
      }
    },
    {
      "cell_type": "markdown",
      "source": [
        "In this section we will focus on linear relationships a fundamental relationship in engineering and science alike.\n"
      ],
      "metadata": {
        "id": "pEPogvQ2AJ3S"
      }
    },
    {
      "cell_type": "markdown",
      "source": [
        "**1.1 Basics of Linear Algebra**\n",
        "\n",
        "Sets - Collection of objects {}\n",
        "\n",
        "Union - A U B - Set containing all elements of A and B\n",
        "\n",
        "Intersect - A n B - Set Containing all elements thats belong to both A and B\n",
        "\n",
        "Naturals - N = {1,2,3,4,..}\n",
        "\n",
        "Wholes - W = N U {0}\n",
        "\n",
        "Integers - Z = W U {-1,-2,-3,....}\n",
        "\n",
        "Rationals - Q = { p/g : p ∊ Z , q ∊ Z \\ {0}}\n",
        "\n",
        "Irrationals - I = set of real numbers not expressible as a fraction of integers\n",
        "\n",
        "Reals - R = Q U I\n",
        "\n",
        "Complex Numbers - C = {a + bi: a, b ∊ R, i = sqrt(-1) }\n"
      ],
      "metadata": {
        "id": "4vwrSOBCBq1q"
      }
    },
    {
      "cell_type": "code",
      "source": [],
      "metadata": {
        "id": "mPoG2JPsBqV5"
      },
      "execution_count": null,
      "outputs": []
    }
  ]
}