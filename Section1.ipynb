{
  "nbformat": 4,
  "nbformat_minor": 0,
  "metadata": {
    "colab": {
      "provenance": [],
      "authorship_tag": "ABX9TyONGJiv+OuNSh5i4Z/hE8eh",
      "include_colab_link": true
    },
    "kernelspec": {
      "name": "python3",
      "display_name": "Python 3"
    },
    "language_info": {
      "name": "python"
    }
  },
  "cells": [
    {
      "cell_type": "markdown",
      "metadata": {
        "id": "view-in-github",
        "colab_type": "text"
      },
      "source": [
        "<a href=\"https://colab.research.google.com/github/SamariaSpringfield/MAT421_/blob/main/Section1.ipynb\" target=\"_parent\"><img src=\"https://colab.research.google.com/assets/colab-badge.svg\" alt=\"Open In Colab\"/></a>"
      ]
    },
    {
      "cell_type": "markdown",
      "source": [
        "**Linear Algebra and Systems of Linear Equations**\n",
        "\n",
        "*Section 1.1-4*"
      ],
      "metadata": {
        "id": "PE1iznMVixh0"
      }
    },
    {
      "cell_type": "markdown",
      "source": [
        "In this section we will focus on linear relationships, a fundamental relationship in engineering and science alike.\n"
      ],
      "metadata": {
        "id": "pEPogvQ2AJ3S"
      }
    },
    {
      "cell_type": "markdown",
      "source": [
        "**1.1 Basics of Linear Algebra**\n",
        "\n",
        "Sets - Collection of objects {}\n",
        "\n",
        "Union - A U B - Set containing all elements of A and B\n",
        "\n",
        "Intersect - A n B - Set Containing all elements thats belong to both A and B\n",
        "\n",
        "Naturals - N = {1,2,3,4,..}\n",
        "\n",
        "Wholes - W = N U {0}\n",
        "\n",
        "Integers - Z = W U {-1,-2,-3,....}\n",
        "\n",
        "Rationals - Q = { p/g : p ∊ Z , q ∊ Z \\ {0}}\n",
        "\n",
        "Irrationals - I = set of real numbers not expressible as a fraction of integers\n",
        "\n",
        "Reals - R = Q U I\n",
        "\n",
        "Complex Numbers - C = {a + bi: a, b ∊ R, i = sqrt(-1) }\n"
      ],
      "metadata": {
        "id": "4vwrSOBCBq1q"
      }
    },
    {
      "cell_type": "markdown",
      "source": [
        "**Vectors**\n",
        "\n",
        "**Example 1** Create a row vector and column vector, and show the shape of the vectors."
      ],
      "metadata": {
        "id": "FiMYfC-MCgTU"
      }
    },
    {
      "cell_type": "code",
      "source": [
        "\n",
        "import numpy as np\n",
        "vector_row = np.array([[7, -3, 3, 1, 4]])\n",
        "vector_column = np.array([[1], \n",
        "                          [2], \n",
        "                          [3], \n",
        "                          [4]])\n",
        "print(vector_row.shape)\n",
        "print(vector_column.shape)"
      ],
      "metadata": {
        "id": "mPoG2JPsBqV5",
        "colab": {
          "base_uri": "https://localhost:8080/"
        },
        "outputId": "358230de-6558-4e55-be13-f9aa0598bf51"
      },
      "execution_count": 2,
      "outputs": [
        {
          "output_type": "stream",
          "name": "stdout",
          "text": [
            "(1, 5)\n",
            "(4, 1)\n"
          ]
        }
      ]
    },
    {
      "cell_type": "markdown",
      "source": [
        "**Matrices**\n",
        "\n",
        "**Example 2**  Use Python to find the determinant of the matrix 𝑀=[[0,5,1,4], [3,3,8,8], [1,2,0,3], [0,4,2,3]]. Use the np.eye function to produce a 4×4 identity matrix, 𝐼. Multiply 𝑀 by 𝐼 to show that the result is 𝑀."
      ],
      "metadata": {
        "id": "nzatQ0wcDbka"
      }
    },
    {
      "cell_type": "code",
      "source": [
        "\n",
        "from numpy.linalg import det\n",
        "\n",
        "M = np.array([[0,5,1,4], \n",
        "             [3,3,8,8], \n",
        "             [1,2,0,3],\n",
        "             [0,4,2,3]])\n",
        "print('M:\\n', M)\n",
        "\n",
        "print('Determinant: %.1f'%det(M))\n",
        "I = np.eye(4)\n",
        "print('I:\\n', I)\n",
        "print('M*I:\\n', np.dot(M, I))\n"
      ],
      "metadata": {
        "colab": {
          "base_uri": "https://localhost:8080/"
        },
        "id": "s-CKhcDiDbL8",
        "outputId": "3991b97d-bfcb-4eec-a271-f470dfdc985f"
      },
      "execution_count": 3,
      "outputs": [
        {
          "output_type": "stream",
          "name": "stdout",
          "text": [
            "M:\n",
            " [[0 5 1 4]\n",
            " [3 3 8 8]\n",
            " [1 2 0 3]\n",
            " [0 4 2 3]]\n",
            "Determinant: -17.0\n",
            "I:\n",
            " [[1. 0. 0. 0.]\n",
            " [0. 1. 0. 0.]\n",
            " [0. 0. 1. 0.]\n",
            " [0. 0. 0. 1.]]\n",
            "M*I:\n",
            " [[0. 5. 1. 4.]\n",
            " [3. 3. 8. 8.]\n",
            " [1. 2. 0. 3.]\n",
            " [0. 4. 2. 3.]]\n"
          ]
        }
      ]
    },
    {
      "cell_type": "code",
      "source": [],
      "metadata": {
        "id": "XhYshndKDlL_"
      },
      "execution_count": null,
      "outputs": []
    }
  ]
}