{
  "nbformat": 4,
  "nbformat_minor": 0,
  "metadata": {
    "colab": {
      "provenance": [],
      "authorship_tag": "ABX9TyPrVoWo36BjzHmEldbLNW+8",
      "include_colab_link": true
    },
    "kernelspec": {
      "name": "python3",
      "display_name": "Python 3"
    },
    "language_info": {
      "name": "python"
    }
  },
  "cells": [
    {
      "cell_type": "markdown",
      "metadata": {
        "id": "view-in-github",
        "colab_type": "text"
      },
      "source": [
        "<a href=\"https://colab.research.google.com/github/SamariaSpringfield/MAT421_/blob/main/Chapter9.ipynb\" target=\"_parent\"><img src=\"https://colab.research.google.com/assets/colab-badge.svg\" alt=\"Open In Colab\"/></a>"
      ]
    },
    {
      "cell_type": "code",
      "execution_count": null,
      "metadata": {
        "id": "woBq_07jxHXf"
      },
      "outputs": [],
      "source": []
    },
    {
      "cell_type": "markdown",
      "source": [
        "# Chapter 9 | Representation of Numbers\n",
        "\n",
        "\n",
        "**9.1 Base-N and Binary**\n",
        "\n",
        "The decimal system, otherwise known as base10, represents numbers through a list of digits 0 to 9. Each digit is denounced as the coefficent for a power of 10.\n",
        "\n",
        "Base10 can be referred to as the \"standard\" of number representation in terms of familiarity. On the other hand, base2 or binary, is a salient representation for computers. Let's take a look."
      ],
      "metadata": {
        "id": "QBnZ0RfFxgIX"
      }
    },
    {
      "cell_type": "code",
      "source": [
        "# Demonstrate the decimal expansion of 543 (base10)\n",
        "543 == 5*(10**2) + 4*(10**1) + 3*(10**0) "
      ],
      "metadata": {
        "colab": {
          "base_uri": "https://localhost:8080/"
        },
        "id": "0ZbJpIDryLPh",
        "outputId": "6daa78bd-9f8c-4149-83c0-11b662ea269b"
      },
      "execution_count": 6,
      "outputs": [
        {
          "output_type": "execute_result",
          "data": {
            "text/plain": [
              "True"
            ]
          },
          "metadata": {},
          "execution_count": 6
        }
      ]
    },
    {
      "cell_type": "code",
      "source": [
        "# We will now convert 543 (base10) to binary\n",
        "543 == 1*(2**9) + 0*(2**8) + 0*(2**7) + 0*(2**6) + 0*(2**5) + 1*(2**4) + 1*(2**3) + 1*(2**2) + 1*(2**1) + 1*(2**0) \n",
        "# 543(base10) == 1000011111(base2)"
      ],
      "metadata": {
        "colab": {
          "base_uri": "https://localhost:8080/"
        },
        "id": "-c0x6_3mFW7e",
        "outputId": "6a56eca0-deb3-4fab-a9fd-a63b09b60d89"
      },
      "execution_count": 10,
      "outputs": [
        {
          "output_type": "execute_result",
          "data": {
            "text/plain": [
              "True"
            ]
          },
          "metadata": {},
          "execution_count": 10
        }
      ]
    },
    {
      "cell_type": "code",
      "source": [
        "# We will now convert 543 (base10) to binary using Python bin()\n",
        "num1 = bin(543)[2:] # [2:] used for array slicing on the printed string\n",
        "print(num1)"
      ],
      "metadata": {
        "colab": {
          "base_uri": "https://localhost:8080/"
        },
        "id": "HAE-MCvEDqk-",
        "outputId": "9ecf7724-1682-4c94-98a1-827610d1a297"
      },
      "execution_count": 25,
      "outputs": [
        {
          "output_type": "stream",
          "name": "stdout",
          "text": [
            "1000011111\n"
          ]
        }
      ]
    },
    {
      "cell_type": "code",
      "source": [
        "# Lets introduce another number of base10 \n",
        "num2 = bin(123)[2:]\n",
        "print(num2)"
      ],
      "metadata": {
        "colab": {
          "base_uri": "https://localhost:8080/"
        },
        "id": "hNHPncbYE1Bk",
        "outputId": "3194ddd8-9cb4-47c9-c920-e7b8d0dae3d6"
      },
      "execution_count": 24,
      "outputs": [
        {
          "output_type": "stream",
          "name": "stdout",
          "text": [
            "1111011\n"
          ]
        }
      ]
    },
    {
      "cell_type": "code",
      "source": [
        "# We will now preform the binary addition of num1 and num2 \n",
        "sum = num1 + num2\n",
        "print(sum)"
      ],
      "metadata": {
        "colab": {
          "base_uri": "https://localhost:8080/"
        },
        "id": "QV-9nA0NHzkz",
        "outputId": "9dca799b-a455-4cee-e68a-6dab66a8d7f7"
      },
      "execution_count": 26,
      "outputs": [
        {
          "output_type": "stream",
          "name": "stdout",
          "text": [
            "10000111111111011\n"
          ]
        }
      ]
    },
    {
      "cell_type": "code",
      "source": [
        "# We will now preform the binary multiplication of num1 and num2 \n",
        "num1 = str(num1)\n",
        "num2 = str(num2) \n",
        "product =int(num2,2) * int(num2,2)\n",
        "binaryMul = bin(product)[2:]\n",
        "print(\"\\nProduct = \" + binaryMul)"
      ],
      "metadata": {
        "colab": {
          "base_uri": "https://localhost:8080/"
        },
        "id": "By7sWWTvKwaJ",
        "outputId": "c47879ff-a7ca-4a18-f38b-4c22a274e4c3"
      },
      "execution_count": 31,
      "outputs": [
        {
          "output_type": "stream",
          "name": "stdout",
          "text": [
            "\n",
            "Product = 11101100011001\n"
          ]
        }
      ]
    },
    {
      "cell_type": "markdown",
      "source": [
        "**9.2 Floating Point Numbers**\n",
        "\n",
        "To ensure proper range and precision for engineering calculations we use floating point numbers or float for short. \n",
        "\n",
        "Floats allocate bits to three different parts: \n",
        "- Sign indicator, 𝑠, which says whether a number is positive or negative;\n",
        "- Characteristic or exponent, 𝑒\n",
        ", which is the power of 2;\n",
        "- Fraction, 𝑓\n",
        ", which is the coefficient of the exponent \n",
        "\n",
        "  *(Python Numerical Methods 2022)*\n",
        "\n",
        "  Floating points use 64-bit precision \n",
        "\n",
        "  Floats have gaps - otherwise known as the distance from one number to the next; gaps increase as the number increases. We can find the gap in any given number using a function in Python."
      ],
      "metadata": {
        "id": "yyKPqdulNIbZ"
      }
    },
    {
      "cell_type": "code",
      "source": [
        "# To begin we will import the float information package\n",
        "import sys\n",
        "sys.float_info\n",
        "\n",
        "# We will now import numpy - the function that computes the gap at any given number\n",
        "import numpy as np\n"
      ],
      "metadata": {
        "id": "fsQdZK9HPT7n"
      },
      "execution_count": 34,
      "outputs": []
    },
    {
      "cell_type": "code",
      "source": [
        "# Use the spacing function to determine the gap at 1e8\n",
        "np.spacing(1e8) "
      ],
      "metadata": {
        "colab": {
          "base_uri": "https://localhost:8080/"
        },
        "id": "lixaxwKRUP15",
        "outputId": "5eb208f7-bea2-4698-e7c1-99b5f14aa8d9"
      },
      "execution_count": 35,
      "outputs": [
        {
          "output_type": "execute_result",
          "data": {
            "text/plain": [
              "1.4901161193847656e-08"
            ]
          },
          "metadata": {},
          "execution_count": 35
        }
      ]
    },
    {
      "cell_type": "code",
      "source": [
        "# Here we are verifying that upon adding a number to 1e8 that is less than 1/2 the gap it still equals 1e8\n",
        "1e8 == (1e8 + np.spacing(1e8)/4) "
      ],
      "metadata": {
        "colab": {
          "base_uri": "https://localhost:8080/"
        },
        "id": "JPQU3a64UdEJ",
        "outputId": "12ac550a-2005-4a0b-b219-2a733a662052"
      },
      "execution_count": 37,
      "outputs": [
        {
          "output_type": "execute_result",
          "data": {
            "text/plain": [
              "True"
            ]
          },
          "metadata": {},
          "execution_count": 37
        }
      ]
    },
    {
      "cell_type": "code",
      "source": [],
      "metadata": {
        "id": "ummPD1IhU91J"
      },
      "execution_count": null,
      "outputs": []
    }
  ]
}