{
  "nbformat": 4,
  "nbformat_minor": 0,
  "metadata": {
    "colab": {
      "provenance": [],
      "authorship_tag": "ABX9TyO+EyyHdIDm4ToXOtnMgYkB",
      "include_colab_link": true
    },
    "kernelspec": {
      "name": "python3",
      "display_name": "Python 3"
    },
    "language_info": {
      "name": "python"
    }
  },
  "cells": [
    {
      "cell_type": "markdown",
      "metadata": {
        "id": "view-in-github",
        "colab_type": "text"
      },
      "source": [
        "<a href=\"https://colab.research.google.com/github/SamariaSpringfield/MAT421_/blob/main/Chapter9.ipynb\" target=\"_parent\"><img src=\"https://colab.research.google.com/assets/colab-badge.svg\" alt=\"Open In Colab\"/></a>"
      ]
    },
    {
      "cell_type": "code",
      "execution_count": null,
      "metadata": {
        "id": "woBq_07jxHXf"
      },
      "outputs": [],
      "source": []
    },
    {
      "cell_type": "markdown",
      "source": [
        "# Representation of Numbers\n",
        "\n",
        "\n",
        "**9.1 Base-N and Binary**\n",
        "\n",
        "The decimal system, otherwise known as base10, represents numbers through a list of digits 0 to 9. Each digit is denounced as the coefficent for a power of 10.\n",
        "\n",
        "Base10 can be referred to as the \"standard\" of number representation in terms of familiarity. On the other hand, base2 or binary, is a salient representation for computers. Let's take a look."
      ],
      "metadata": {
        "id": "QBnZ0RfFxgIX"
      }
    },
    {
      "cell_type": "code",
      "source": [
        "# Demonstrate the decimal expansion of 543 (base10)\n",
        "543 == 5*(10**2) + 4*(10**1) + 3*(10**0) "
      ],
      "metadata": {
        "colab": {
          "base_uri": "https://localhost:8080/"
        },
        "id": "0ZbJpIDryLPh",
        "outputId": "6daa78bd-9f8c-4149-83c0-11b662ea269b"
      },
      "execution_count": 6,
      "outputs": [
        {
          "output_type": "execute_result",
          "data": {
            "text/plain": [
              "True"
            ]
          },
          "metadata": {},
          "execution_count": 6
        }
      ]
    },
    {
      "cell_type": "code",
      "source": [
        "# We will now convert 543 (base10) to binary\n",
        "543 == 1*(2**9) + 0*(2**8) + 0*(2**7) + 0*(2**6) + 0*(2**5) + 1*(2**4) + 1*(2**3) + 1*(2**2) + 1*(2**1) + 1*(2**0) \n",
        "# 543(base10) == 1000011111(base2)"
      ],
      "metadata": {
        "colab": {
          "base_uri": "https://localhost:8080/"
        },
        "id": "-c0x6_3mFW7e",
        "outputId": "6a56eca0-deb3-4fab-a9fd-a63b09b60d89"
      },
      "execution_count": 10,
      "outputs": [
        {
          "output_type": "execute_result",
          "data": {
            "text/plain": [
              "True"
            ]
          },
          "metadata": {},
          "execution_count": 10
        }
      ]
    },
    {
      "cell_type": "code",
      "source": [
        "# We will now convert 543 (base10) to binary using Python bin()\n",
        "num1 = bin(543)[2:] # [2:] used for array slicing on the printed string\n",
        "print(num1)"
      ],
      "metadata": {
        "colab": {
          "base_uri": "https://localhost:8080/"
        },
        "id": "HAE-MCvEDqk-",
        "outputId": "9ecf7724-1682-4c94-98a1-827610d1a297"
      },
      "execution_count": 25,
      "outputs": [
        {
          "output_type": "stream",
          "name": "stdout",
          "text": [
            "1000011111\n"
          ]
        }
      ]
    },
    {
      "cell_type": "code",
      "source": [
        "# Lets introduce another number of base10 \n",
        "num2 = bin(123)[2:]\n",
        "print(num2)"
      ],
      "metadata": {
        "colab": {
          "base_uri": "https://localhost:8080/"
        },
        "id": "hNHPncbYE1Bk",
        "outputId": "3194ddd8-9cb4-47c9-c920-e7b8d0dae3d6"
      },
      "execution_count": 24,
      "outputs": [
        {
          "output_type": "stream",
          "name": "stdout",
          "text": [
            "1111011\n"
          ]
        }
      ]
    },
    {
      "cell_type": "code",
      "source": [
        "# We will now preform the binary addition of num1 and num2 \n",
        "sum = num1 + num2\n",
        "print(sum)"
      ],
      "metadata": {
        "colab": {
          "base_uri": "https://localhost:8080/"
        },
        "id": "QV-9nA0NHzkz",
        "outputId": "9dca799b-a455-4cee-e68a-6dab66a8d7f7"
      },
      "execution_count": 26,
      "outputs": [
        {
          "output_type": "stream",
          "name": "stdout",
          "text": [
            "10000111111111011\n"
          ]
        }
      ]
    },
    {
      "cell_type": "code",
      "source": [
        "# We will now preform the binary multiplication of num1 and num2 \n",
        "num1 = str(num1)\n",
        "num2 = str(num2) \n",
        "product =int(num2,2) * int(num2,2)\n",
        "binaryMul = bin(product)[2:]\n",
        "print(\"\\nProduct = \" + binaryMul)"
      ],
      "metadata": {
        "colab": {
          "base_uri": "https://localhost:8080/"
        },
        "id": "By7sWWTvKwaJ",
        "outputId": "c47879ff-a7ca-4a18-f38b-4c22a274e4c3"
      },
      "execution_count": 31,
      "outputs": [
        {
          "output_type": "stream",
          "name": "stdout",
          "text": [
            "\n",
            "Product = 11101100011001\n"
          ]
        }
      ]
    },
    {
      "cell_type": "markdown",
      "source": [
        "**9.2 Floating Point Numbers**\n",
        "\n",
        "To ensure proper range and precision for engineering calculations we use floating point numbers or float for short - floats are base 2 fractions!\n",
        "\n",
        "Floats allocate bits to three different parts: \n",
        "- Sign indicator, 𝑠, which says whether a number is positive or negative;\n",
        "- Characteristic or exponent, 𝑒\n",
        ", which is the power of 2;\n",
        "- Fraction, 𝑓\n",
        ", which is the coefficient of the exponent \n",
        "\n",
        "  *(Python Numerical Methods 2022)*\n",
        "\n",
        "  Floating points use 64-bit precision \n",
        "\n",
        "  Floats have gaps - otherwise known as the distance from one number to the next; gaps increase as the number increases. We can find the gap in any given number using a function in Python."
      ],
      "metadata": {
        "id": "yyKPqdulNIbZ"
      }
    },
    {
      "cell_type": "code",
      "source": [
        "# To begin we will import the float information package\n",
        "import sys\n",
        "sys.float_info\n",
        "\n",
        "# We will now import numpy - the function that computes the gap at any given number\n",
        "import numpy as np\n"
      ],
      "metadata": {
        "id": "fsQdZK9HPT7n"
      },
      "execution_count": 34,
      "outputs": []
    },
    {
      "cell_type": "code",
      "source": [
        "# Use the spacing function to determine the gap at 1e8\n",
        "np.spacing(1e8) "
      ],
      "metadata": {
        "colab": {
          "base_uri": "https://localhost:8080/"
        },
        "id": "lixaxwKRUP15",
        "outputId": "5eb208f7-bea2-4698-e7c1-99b5f14aa8d9"
      },
      "execution_count": 35,
      "outputs": [
        {
          "output_type": "execute_result",
          "data": {
            "text/plain": [
              "1.4901161193847656e-08"
            ]
          },
          "metadata": {},
          "execution_count": 35
        }
      ]
    },
    {
      "cell_type": "code",
      "source": [
        "# Here we are verifying that upon adding a number to 1e8 that is less than 1/2 the gap it still equals 1e8\n",
        "1e8 == (1e8 + np.spacing(1e8)/4) "
      ],
      "metadata": {
        "colab": {
          "base_uri": "https://localhost:8080/"
        },
        "id": "JPQU3a64UdEJ",
        "outputId": "12ac550a-2005-4a0b-b219-2a733a662052"
      },
      "execution_count": 37,
      "outputs": [
        {
          "output_type": "execute_result",
          "data": {
            "text/plain": [
              "True"
            ]
          },
          "metadata": {},
          "execution_count": 37
        }
      ]
    },
    {
      "cell_type": "markdown",
      "source": [
        "**9.3 Round-off Errors**\n",
        "\n",
        "Floating point numbers are stored by a finite number of bits, because of this round-off errors occur. Round-off error is the difference between the approximation and the correct (true) value. \n",
        "\n",
        "Round-off error can accumulate after when rounding a value multiple times. Lets take a look.\n",
        "Assume we have the decimal value of 6.749. \n",
        "\n",
        "We are asked to round the value to two decimal places and are left with 6.75. Say we round it to one, we now have 6.8 - **0.051 total error**.\n",
        "\n",
        " Now, if we rounded it to one decimal place initially, 6.7, we would have **0.049 total error**."
      ],
      "metadata": {
        "id": "SW5Eqps9lOzW"
      }
    },
    {
      "cell_type": "code",
      "source": [
        "# 6.749 and 6.7 should be 0.049. But if you calculate it in Python, you will see the 6.8 - 6.749 is not equal to 0.049.\n",
        "6.8 - 6.749 == 0.049"
      ],
      "metadata": {
        "colab": {
          "base_uri": "https://localhost:8080/"
        },
        "id": "IyYcW_9HnR8d",
        "outputId": "a9df1ac3-d612-4745-91b8-73189224cb38"
      },
      "execution_count": 38,
      "outputs": [
        {
          "output_type": "execute_result",
          "data": {
            "text/plain": [
              "False"
            ]
          },
          "metadata": {},
          "execution_count": 38
        }
      ]
    },
    {
      "cell_type": "code",
      "source": [
        "# This is occuring due to round-off error\n",
        "6.8 - 6.749 "
      ],
      "metadata": {
        "colab": {
          "base_uri": "https://localhost:8080/"
        },
        "id": "ummPD1IhU91J",
        "outputId": "492694e2-9add-42a0-b577-165ef994602a"
      },
      "execution_count": 39,
      "outputs": [
        {
          "output_type": "execute_result",
          "data": {
            "text/plain": [
              "0.051000000000000156"
            ]
          },
          "metadata": {},
          "execution_count": 39
        }
      ]
    },
    {
      "cell_type": "code",
      "source": [
        "6.7 - 6.749 # the approximation of the numbers is resulting in the small error"
      ],
      "metadata": {
        "colab": {
          "base_uri": "https://localhost:8080/"
        },
        "id": "y3g4C8NhqRjb",
        "outputId": "731cf114-92ee-4aa4-8bbd-b9354a0bb4ab"
      },
      "execution_count": 40,
      "outputs": [
        {
          "output_type": "execute_result",
          "data": {
            "text/plain": [
              "-0.04899999999999949"
            ]
          },
          "metadata": {},
          "execution_count": 40
        }
      ]
    },
    {
      "cell_type": "markdown",
      "source": [
        "Lets see how round-off error can accumulate"
      ],
      "metadata": {
        "id": "bOYds4Neq9HT"
      }
    },
    {
      "cell_type": "code",
      "source": [
        "1 + 3/7 - 3/7"
      ],
      "metadata": {
        "colab": {
          "base_uri": "https://localhost:8080/"
        },
        "id": "5HQIX8YprE-H",
        "outputId": "b8afac6f-73e9-4b6c-af2d-af2c3a80c9dd"
      },
      "execution_count": 43,
      "outputs": [
        {
          "output_type": "execute_result",
          "data": {
            "text/plain": [
              "1.0"
            ]
          },
          "metadata": {},
          "execution_count": 43
        }
      ]
    },
    {
      "cell_type": "code",
      "source": [
        "# Here we will define a function that will loop through 'i' iterations of the addition and subtraction of 3/7\n",
        "def add_and_subtract(iterations):\n",
        "    result = 1\n",
        "    \n",
        "    for i in range(iterations):\n",
        "        result += 3/7\n",
        "\n",
        "    for i in range(iterations):\n",
        "        result -= 3/7\n",
        "    return result"
      ],
      "metadata": {
        "id": "BJ7DkToErI2h"
      },
      "execution_count": 44,
      "outputs": []
    },
    {
      "cell_type": "code",
      "source": [
        "# lets see what happens when we do this 100 times\n",
        "add_and_subtract(100)"
      ],
      "metadata": {
        "colab": {
          "base_uri": "https://localhost:8080/"
        },
        "id": "gqznJFbbrXPA",
        "outputId": "b29edeb2-d63e-4b4f-c2e1-e4b65a22f236"
      },
      "execution_count": 45,
      "outputs": [
        {
          "output_type": "execute_result",
          "data": {
            "text/plain": [
              "1.0000000000000007"
            ]
          },
          "metadata": {},
          "execution_count": 45
        }
      ]
    },
    {
      "cell_type": "code",
      "source": [
        "# 1000 times\n",
        "add_and_subtract(1000)"
      ],
      "metadata": {
        "colab": {
          "base_uri": "https://localhost:8080/"
        },
        "id": "2NWme1jYreg1",
        "outputId": "27e8e4ba-c494-4a81-abfd-705a2b073ad3"
      },
      "execution_count": 46,
      "outputs": [
        {
          "output_type": "execute_result",
          "data": {
            "text/plain": [
              "1.0000000000000149"
            ]
          },
          "metadata": {},
          "execution_count": 46
        }
      ]
    },
    {
      "cell_type": "code",
      "source": [
        "#10000 times\n",
        "add_and_subtract(10000)"
      ],
      "metadata": {
        "colab": {
          "base_uri": "https://localhost:8080/"
        },
        "id": "xWuvcG08rm9d",
        "outputId": "47869509-6c40-476e-ee67-52ae3b25ce58"
      },
      "execution_count": 47,
      "outputs": [
        {
          "output_type": "execute_result",
          "data": {
            "text/plain": [
              "1.0000000000000717"
            ]
          },
          "metadata": {},
          "execution_count": 47
        }
      ]
    }
  ]
}